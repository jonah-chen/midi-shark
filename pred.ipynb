{
 "cells": [
  {
   "cell_type": "code",
   "execution_count": null,
   "metadata": {},
   "outputs": [],
   "source": []
  },
  {
   "cell_type": "code",
   "execution_count": 1,
   "metadata": {},
   "outputs": [],
   "source": [
    "from processing.preprocess import save_spectrogram\n",
    "from dotenv import load_dotenv\n",
    "import os\n",
    "import warnings\n",
    "import torch\n",
    "import numpy as np\n",
    "from pytube import YouTube\n",
    "from moviepy.editor import *\n",
    "\n",
    "sys.path.insert(0, './model')\n",
    "sys.path.insert(0, './processing')\n",
    "from encoder_only_transformer import OnsetsFrames\n",
    "from encoder_only_transformer import VelocityModel\n",
    "from pred_to_midi import folder_to_midi\n",
    "from pred_to_midi import create_frames_velocity_dict\n",
    "warnings.filterwarnings('ignore')"
   ]
  },
  {
   "cell_type": "code",
   "execution_count": 43,
   "metadata": {},
   "outputs": [],
   "source": [
    "class Prediction():\n",
    "    # init\n",
    "    def __init__(self, of_model, vel_model, of_path, vel_path, output_folder, device = 'cuda'):\n",
    "        # Load in the model\n",
    "        self.device = device\n",
    "        self.of_model = of_model\n",
    "        self.vel_model = vel_model\n",
    "        self.of_path = of_path\n",
    "        self.vel_path = vel_path\n",
    "\n",
    "        self.of_model.load_state_dict(torch.load(self.of_path, map_location=torch.device(device)), strict=False)\n",
    "        self.vel_model.load_state_dict(torch.load(self.vel_path, map_location=torch.device(device)), strict=False)\n",
    "\n",
    "        # Set up directories\n",
    "        self.output_folder = output_folder\n",
    "\n",
    "    def intersect_frames_onsets(self, frames, onsets):\n",
    "        ''' \n",
    "            Modify the frames array such that it only contains notes \n",
    "            if it contains an onset\n",
    "        '''\n",
    "        frames_new = np.zeros(frames.shape)\n",
    "\n",
    "        \n",
    "        for i in range(len(frames)):\n",
    "            # Go through every note:\n",
    "            record_current = False\n",
    "\n",
    "            for j in range(len(frames[0])):\n",
    "                \n",
    "                is_played = (frames[i][j] == 1)\n",
    "                is_true_onset = (onsets[i][j] == 1)\n",
    "                if j == 0: is_onset = is_played\n",
    "                else: is_onset = is_played and frames[i][j-1] == 0\n",
    "                \n",
    "                if is_played:\n",
    "                    \n",
    "                    if is_true_onset:\n",
    "                        frames_new[i][j] = 1\n",
    "                        j_last = j # Reset the onset time\n",
    "                        record_current = True\n",
    "\n",
    "                    else:\n",
    "                        if record_current:\n",
    "                            frames_new[i][j] = 1\n",
    "                        else:\n",
    "                            continue\n",
    "\n",
    "                else:\n",
    "                    record_current = False\n",
    "\n",
    "        return frames_new\n",
    "\n",
    "    def prepare(self, input_file, song_name):\n",
    "        '''\n",
    "        Generates the 20s spectrograms of the given input .wav file,\n",
    "        and outputs it in the output_folder in:\n",
    "            output_folder/output_name/raw/\n",
    "        '''\n",
    "        output_dir = os.path.join(self.output_folder, song_name)\n",
    "        save_spectrogram(input_file, output_dir, \"raw____\") # extra characters are a workaround for a poorly implemented save_spectrogram function\n",
    "\n",
    "    def prepare_for_model(self, data):\n",
    "        '''\n",
    "        Turns a numpy array into a tensor\n",
    "        '''\n",
    "        data = torch.from_numpy(data)\n",
    "        data = data.unsqueeze(0)\n",
    "        data = data.transpose(1,2)\n",
    "        return data\n",
    "\n",
    "    def prepare_after_model(self, data, tolerance = 0):\n",
    "        '''\n",
    "        Turns a tensor into a numpy array and normalizes logits to 0 and 1\n",
    "        '''\n",
    "        data = data.squeeze(0)\n",
    "        data = data.transpose(0,1)\n",
    "        data = data.detach().numpy()\n",
    "        for i in range(len(data)):\n",
    "            for j in range(len(data[i])):\n",
    "                if data[i][j] > tolerance:\n",
    "                    data[i][j] = 1\n",
    "                else:\n",
    "                    data[i][j] = 0\n",
    "        return data\n",
    "\n",
    "    def run_model(self, song_name):\n",
    "        '''\n",
    "        Runs the model on every numpy file in the folder\n",
    "            \n",
    "            output_folder/song_name/raw/\n",
    "\n",
    "        and outputs the predictions in\n",
    "\n",
    "            output_folder/song_name/frames\n",
    "            output_folder/song_name/onsets\n",
    "            output_folder/song_name/velocities\n",
    "\n",
    "        model_type can be:\n",
    "            \"onsets\"\n",
    "            \"frames\"\n",
    "            \"offsets\"\n",
    "            \"velocities\"\n",
    "        '''\n",
    "\n",
    "        # Create the folder if not already created\n",
    "        output_dir_frames = os.path.join(self.output_folder, song_name, \"frames\")\n",
    "        if not os.path.isdir(output_dir_frames):\n",
    "            os.makedirs(output_dir_frames)\n",
    "\n",
    "        output_dir_onsets = os.path.join(self.output_folder, song_name, \"onsets\")\n",
    "        if not os.path.isdir(output_dir_onsets):\n",
    "            os.makedirs(output_dir_onsets)\n",
    "\n",
    "        output_dir_velocities = os.path.join(self.output_folder, song_name, \"velocities\")\n",
    "        if not os.path.isdir(output_dir_velocities):\n",
    "            os.makedirs(output_dir_velocities)\n",
    "\n",
    "        # Load in the dataset\n",
    "        raw_path = os.path.join(self.output_folder, song_name, \"raw\")\n",
    "        spectrogram_list = os.listdir(raw_path)\n",
    "        spectrogram_list = sorted(spectrogram_list, key=lambda x: float(x.split('_')[1].split('.')[0]))\n",
    "\n",
    "        # Iterate through everything in the loader\n",
    "        for spec in spectrogram_list:\n",
    "            if spec.endswith(\"20.npy\"):\n",
    "                # Load data and turn into right shape\n",
    "                data = self.prepare_for_model(np.load(os.path.join(raw_path, spec)))\n",
    "                # Prediction\n",
    "                onsets, frames = self.of_model(data)\n",
    "                velocities = self.vel_model(data)\n",
    "\n",
    "                onsets = self.prepare_after_model(onsets, tolerance = - 3)\n",
    "                frames = self.prepare_after_model(frames)\n",
    "\n",
    "                frames = self.intersect_frames_onsets(frames, onsets)\n",
    "                velocities = velocities.squeeze(0)\n",
    "                velocities = velocities.transpose(0,1)\n",
    "                velocities = velocities.detach().numpy()\n",
    "                velocities = velocities * onsets\n",
    "                \n",
    "                # Save the output\n",
    "                np.save(os.path.join(output_dir_frames, spec), frames)\n",
    "                np.save(os.path.join(output_dir_onsets, spec), onsets)\n",
    "                np.save(os.path.join(output_dir_velocities, spec), velocities)\n",
    "\n",
    "    def wav_to_wav(self, input_file, song_name):\n",
    "        self.prepare(input_file, song_name)\n",
    "\n",
    "        self.run_model(song_name)\n",
    "\n",
    "        frames_folder = os.path.join(self.output_folder, song_name, \"frames\")\n",
    "        velocity_folder = os.path.join(self.output_folder, song_name, \"velocities\")\n",
    "        folder_to_midi(frames_folder, velocity_folder, os.path.join(self.output_folder,song_name,song_name+\"_synthesized.midi\"))\n",
    "        \n",
    "\n",
    "    def pred_youtube_to_wav(self, youtube_url, song_name):\n",
    "        '''\n",
    "        Downloads the youtube video and converts it to a .wav file.\n",
    "        Then makes a prediction on the .wav file.\n",
    "\n",
    "        Credit for Downloading Code: https://stackoverflow.com/questions/27473526/download-only-audio-from-youtube-video-using-youtube-dl-in-python-script\n",
    "        ''' \n",
    "        # Download the video as .wav and save it\n",
    "        yt = YouTube(youtube_url)\n",
    "        video = yt.streams.filter(only_audio=True).first()\n",
    "        out_file = video.download(output_path=\".\")\n",
    "\n",
    "        # Make directory if doesn't exist\n",
    "        output_dir = os.path.join(self.output_folder, song_name)\n",
    "        if not os.path.isdir(output_dir):\n",
    "            os.makedirs(output_dir)\n",
    "\n",
    "        new_file = os.path.join(output_dir, song_name+\".wav\")\n",
    "        os.rename(out_file, new_file)\n",
    "\n",
    "        # Make predictions\n",
    "        self.wav_to_wav(new_file, song_name)\n",
    "    \n",
    "    def pred_mp4_to_wav(self, input_mp4, song_name, start=\"00:00:00\", end=-1):\n",
    "        '''\n",
    "        Converts a mp4 file to a wav file.\n",
    "        Then makes a prediction on the .wav file\n",
    "\n",
    "        Defaults to starting at t='00:00:00' and ending at t=MAX\n",
    "        where time is in 'hh:mm:ss' format\n",
    "        '''\n",
    "\n",
    "        # # Convert mp4 to wav\n",
    "        wav_file = os.path.join(self.output_folder, song_name, song_name+\".wav\")\n",
    "        output_dir = os.path.join(self.output_folder, song_name)\n",
    "        if not os.path.isdir(output_dir):\n",
    "            os.makedirs(output_dir)\n",
    "\n",
    "        videoclip = VideoFileClip(input_mp4)\n",
    "        \n",
    "        if end == -1:\n",
    "            end = videoclip.duration\n",
    "\n",
    "        videoclip = videoclip.subclip(start, end)\n",
    "        audioclip = videoclip.audio\n",
    "        audioclip.write_audiofile(wav_file)\n",
    "        # Trim the audioclip\n",
    "\n",
    "\n",
    "        audioclip.close()\n",
    "        videoclip.close()\n",
    "\n",
    "        # return\n",
    "        self.wav_to_wav(wav_file, song_name)"
   ]
  },
  {
   "cell_type": "code",
   "execution_count": 44,
   "metadata": {},
   "outputs": [],
   "source": [
    "device = 'cpu'\n",
    "of_model = OnsetsFrames(229, 512, 16, 512, 8, bias2=True, dropout=0.1)\n",
    "vel_model = VelocityModel(229, 512, 16, 512, 8)\n",
    "of_path = 'fr_2.pt'\n",
    "vel_path = 'vel.pt'\n",
    "output_folder = os.environ.get('testname')\n",
    "\n",
    "# Create a Prediction class\n",
    "chopin = Prediction(of_model, vel_model, of_path, vel_path, output_folder, device)"
   ]
  },
  {
   "cell_type": "code",
   "execution_count": 42,
   "metadata": {},
   "outputs": [],
   "source": [
    "chopin.pred_youtube_to_wav(\"https://www.youtube.com/watch?v=GmK9zg4-fuE\", \"clean\")"
   ]
  },
  {
   "cell_type": "code",
   "execution_count": 45,
   "metadata": {},
   "outputs": [
    {
     "name": "stderr",
     "output_type": "stream",
     "text": [
      "\n",
      "chunk:  16%|█▌        | 319/2049 [00:00<00:00, 3187.50it/s, now=None]"
     ]
    },
    {
     "name": "stdout",
     "output_type": "stream",
     "text": [
      "MoviePy - Writing audio in test_data/demo3/demo3.wav\n"
     ]
    },
    {
     "name": "stderr",
     "output_type": "stream",
     "text": [
      "                                                                      \n",
      "\u001b[A"
     ]
    },
    {
     "name": "stdout",
     "output_type": "stream",
     "text": [
      "MoviePy - Done.\n"
     ]
    }
   ],
   "source": [
    "chopin.pred_mp4_to_wav(\"demo2.mp4\", \"demo3\")"
   ]
  },
  {
   "cell_type": "code",
   "execution_count": 31,
   "metadata": {},
   "outputs": [
    {
     "data": {
      "text/plain": [
       "<matplotlib.image.AxesImage at 0x7f63e48a3970>"
      ]
     },
     "execution_count": 31,
     "metadata": {},
     "output_type": "execute_result"
    },
    {
     "data": {
      "image/png": "[encoded data removed]",
      "text/plain": [
       "<Figure size 2160x720 with 1 Axes>"
      ]
     },
     "metadata": {
      "needs_background": "light"
     },
     "output_type": "display_data"
    }
   ],
   "source": [
    "a = np.load(\"test_data/rickroll2/frames/offset_40.0_duration_20.npy\")\n",
    "plt.figure(figsize=(30,10))\n",
    "plt.imshow(a)"
   ]
  },
  {
   "cell_type": "code",
   "execution_count": 12,
   "metadata": {},
   "outputs": [],
   "source": [
    "import matplotlib.pyplot as plt"
   ]
  },
  {
   "cell_type": "code",
   "execution_count": null,
   "metadata": {},
   "outputs": [],
   "source": []
  }
 ],
 "metadata": {
  "interpreter": {
   "hash": "d7677d11f1bd61d3b32a24a8c23a7d74b9c39e45b33704a1489595ea04a1f9dc"
  },
  "kernelspec": {
   "display_name": "Python 3.8.12 64-bit ('midi-shark': conda)",
   "language": "python",
   "name": "python3"
  },
  "language_info": {
   "codemirror_mode": {
    "name": "ipython",
    "version": 3
   },
   "file_extension": ".py",
   "mimetype": "text/x-python",
   "name": "python",
   "nbconvert_exporter": "python",
   "pygments_lexer": "ipython3",
   "version": "3.8.12"
  },
  "orig_nbformat": 4
 },
 "nbformat": 4,
 "nbformat_minor": 2
}
